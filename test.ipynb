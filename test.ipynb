{
 "cells": [
  {
   "cell_type": "code",
   "execution_count": 1,
   "metadata": {},
   "outputs": [
    {
     "name": "stderr",
     "output_type": "stream",
     "text": [
      "/opt/anaconda3/envs/pln/lib/python3.11/site-packages/tqdm/auto.py:21: TqdmWarning: IProgress not found. Please update jupyter and ipywidgets. See https://ipywidgets.readthedocs.io/en/stable/user_install.html\n",
      "  from .autonotebook import tqdm as notebook_tqdm\n"
     ]
    },
    {
     "data": {
      "text/plain": [
       "[Node(id: 132ba7, type: NodeType.UNKNOWN, properties: ['page_content']),\n",
       " Node(id: e08b68, type: NodeType.UNKNOWN, properties: ['page_content'])]"
      ]
     },
     "execution_count": 1,
     "metadata": {},
     "output_type": "execute_result"
    }
   ],
   "source": [
    "from ragas.testset.graph import Node\n",
    "\n",
    "sample_nodes = [Node(\n",
    "    properties={\"page_content\": \"Einstein's theory of relativity revolutionized our understanding of space and time. It introduced the concept that time is not absolute but can change depending on the observer's frame of reference.\"}\n",
    "),Node(\n",
    "    properties={\"page_content\": \"Time dilation occurs when an object moves close to the speed of light, causing time to pass slower relative to a stationary observer. This phenomenon is a key prediction of Einstein's special theory of relativity.\"}\n",
    ")]\n",
    "sample_nodes"
   ]
  },
  {
   "cell_type": "code",
   "execution_count": 4,
   "metadata": {},
   "outputs": [
    {
     "data": {
      "text/plain": [
       "[Node(id: 132ba7, type: NodeType.UNKNOWN, properties: ['page_content']),\n",
       " Node(id: e08b68, type: NodeType.UNKNOWN, properties: ['page_content'])]"
      ]
     },
     "execution_count": 4,
     "metadata": {},
     "output_type": "execute_result"
    }
   ],
   "source": [
    "sample_nodes"
   ]
  },
  {
   "cell_type": "code",
   "execution_count": 3,
   "metadata": {},
   "outputs": [],
   "source": [
    "from dotenv import load_dotenv\n",
    "import os\n",
    "\n",
    "load_dotenv()\n",
    "\n",
    "OPENAI_API_KEY = os.getenv(\"OPENAI_API_KEY\")"
   ]
  },
  {
   "cell_type": "code",
   "execution_count": 5,
   "metadata": {},
   "outputs": [
    {
     "data": {
      "text/plain": [
       "['EmbeddingExtractor',\n",
       " 'HeadlinesExtractor',\n",
       " 'KeyphrasesExtractor',\n",
       " 'NERExtractor',\n",
       " 'SummaryExtractor',\n",
       " 'TitleExtractor',\n",
       " 'TopicDescriptionExtractor',\n",
       " '__all__',\n",
       " '__builtins__',\n",
       " '__cached__',\n",
       " '__doc__',\n",
       " '__file__',\n",
       " '__loader__',\n",
       " '__name__',\n",
       " '__package__',\n",
       " '__path__',\n",
       " '__spec__',\n",
       " 'emails_extractor',\n",
       " 'embeddings',\n",
       " 'links_extractor',\n",
       " 'llm_based',\n",
       " 'markdown_headings_extractor',\n",
       " 'regex_based']"
      ]
     },
     "execution_count": 5,
     "metadata": {},
     "output_type": "execute_result"
    }
   ],
   "source": [
    "from ragas.testset.transforms import extractors\n",
    "\n",
    "dir(extractors)"
   ]
  },
  {
   "cell_type": "code",
   "execution_count": 17,
   "metadata": {},
   "outputs": [
    {
     "data": {
      "text/plain": [
       "[('entities',\n",
       "  ['Einstein',\n",
       "   'theory of relativity',\n",
       "   'space',\n",
       "   'time',\n",
       "   \"observer's frame of reference\"]),\n",
       " ('entities',\n",
       "  ['Time dilation',\n",
       "   'speed of light',\n",
       "   'stationary observer',\n",
       "   'Einstein',\n",
       "   'special theory of relativity'])]"
      ]
     },
     "execution_count": 17,
     "metadata": {},
     "output_type": "execute_result"
    }
   ],
   "source": [
    "from ragas.testset.transforms.extractors import TopicDescriptionExtractor, NERExtractor\n",
    "\n",
    "extractor = NERExtractor()\n",
    "output = [await extractor.extract(node) for node in sample_nodes]\n",
    "output"
   ]
  },
  {
   "cell_type": "code",
   "execution_count": 16,
   "metadata": {},
   "outputs": [
    {
     "data": {
      "text/plain": [
       "[('topic_description',\n",
       "  \"A discussion on Einstein's theory of relativity and its impact on the understanding of space and time, emphasizing the relativity of time based on the observer's frame of reference.\"),\n",
       " ('topic_description',\n",
       "  \"An explanation of time dilation, a phenomenon predicted by Einstein's special theory of relativity, where time passes slower for objects moving close to the speed of light compared to stationary observers.\")]"
      ]
     },
     "execution_count": 16,
     "metadata": {},
     "output_type": "execute_result"
    }
   ],
   "source": [
    "extractor = TopicDescriptionExtractor()\n",
    "output_topic = [await extractor.extract(node) for node in sample_nodes]\n",
    "output_topic"
   ]
  },
  {
   "cell_type": "code",
   "execution_count": 18,
   "metadata": {},
   "outputs": [
    {
     "data": {
      "text/plain": [
       "{'page_content': \"Einstein's theory of relativity revolutionized our understanding of space and time. It introduced the concept that time is not absolute but can change depending on the observer's frame of reference.\",\n",
       " 'entities': ['Einstein',\n",
       "  'theory of relativity',\n",
       "  'space',\n",
       "  'time',\n",
       "  \"observer's frame of reference\"]}"
      ]
     },
     "execution_count": 18,
     "metadata": {},
     "output_type": "execute_result"
    }
   ],
   "source": [
    "_ = [node.properties.update({key:val}) for (key,val), node in zip(output, sample_nodes)]\n",
    "sample_nodes[0].properties"
   ]
  },
  {
   "cell_type": "code",
   "execution_count": 19,
   "metadata": {},
   "outputs": [
    {
     "data": {
      "text/plain": [
       "{'page_content': \"Einstein's theory of relativity revolutionized our understanding of space and time. It introduced the concept that time is not absolute but can change depending on the observer's frame of reference.\",\n",
       " 'entities': ['Einstein',\n",
       "  'theory of relativity',\n",
       "  'space',\n",
       "  'time',\n",
       "  \"observer's frame of reference\"],\n",
       " 'topic_description': \"A discussion on Einstein's theory of relativity and its impact on the understanding of space and time, emphasizing the relativity of time based on the observer's frame of reference.\"}"
      ]
     },
     "execution_count": 19,
     "metadata": {},
     "output_type": "execute_result"
    }
   ],
   "source": [
    "_ = [node.properties.update({key:val}) for (key,val), node in zip(output_topic, sample_nodes)]\n",
    "sample_nodes[0].properties"
   ]
  },
  {
   "cell_type": "code",
   "execution_count": 21,
   "metadata": {},
   "outputs": [
    {
     "data": {
      "text/plain": [
       "['Counter',\n",
       " 'DistanceMeasure',\n",
       " 'JaccardSimilarityBuilder',\n",
       " 'KnowledgeGraph',\n",
       " 'Node',\n",
       " 'OverlapScoreBuilder',\n",
       " 'Relationship',\n",
       " 'RelationshipBuilder',\n",
       " '__builtins__',\n",
       " '__cached__',\n",
       " '__doc__',\n",
       " '__file__',\n",
       " '__loader__',\n",
       " '__name__',\n",
       " '__package__',\n",
       " '__spec__',\n",
       " 'dataclass',\n",
       " 't']"
      ]
     },
     "execution_count": 21,
     "metadata": {},
     "output_type": "execute_result"
    }
   ],
   "source": [
    "from ragas.testset.transforms.relationship_builders import traditional\n",
    "\n",
    "dir(traditional)"
   ]
  },
  {
   "cell_type": "markdown",
   "metadata": {},
   "source": [
    "# Jaccard Similarity Measure\n",
    "\n",
    "The **Jaccard Similarity Measure**—also known as the **Jaccard Index** or **Jaccard Coefficient**—is a statistic used to quantify the similarity and diversity between two finite sets. It is defined as the size of the intersection divided by the size of the union of the sets:\n",
    "\n",
    "$$\n",
    "    J(A, B) = \\frac{|A \\cap B|}{|A \\cup B|}\n",
    "$$\n",
    "\n",
    "where:\n",
    "- $ |A \\cap B| $ is the number of elements common to both sets $A$ and $B$.\n",
    "- $ |A \\cup B| $ is the total number of elements in either set (i.e., all unique elements from both).\n",
    "\n",
    "The resulting value is always between 0 and 1:\n",
    "- **0** indicates that the sets have no elements in common.\n",
    "- **1** indicates that the sets are identical.\n",
    "\n",
    "## Interpretation\n",
    "\n",
    "The Jaccard Similarity is particularly useful when:\n",
    "- Comparing binary data (e.g., presence/absence in text mining or market basket analysis).\n",
    "- Evaluating similarity between documents, images (via object detection IoU), or user behaviors.\n",
    "- Dealing with sparse data where the absence of an element in both sets is less informative than its presence in at least one.\n",
    "\n",
    "## Example\n",
    "\n",
    "Consider the sets:\n",
    "- $ A = \\{1, 2, 3, 5\\} $\n",
    "- $ B = \\{2, 3, 4, 5, 6\\} $\n",
    "\n",
    "Their intersection and union are:\n",
    "- $ A \\cap B = \\{2, 3, 5\\} $\n",
    "- $ A \\cup B = \\{1, 2, 3, 4, 5, 6\\} $\n",
    "\n",
    "Thus, the Jaccard Similarity is:\n",
    "\n",
    "$$\n",
    "J(A, B) = \\frac{3}{6} = 0.5\n",
    "$$"
   ]
  },
  {
   "cell_type": "code",
   "execution_count": 34,
   "metadata": {},
   "outputs": [
    {
     "data": {
      "text/plain": [
       "[]"
      ]
     },
     "execution_count": 34,
     "metadata": {},
     "output_type": "execute_result"
    }
   ],
   "source": [
    "from ragas.testset.graph import KnowledgeGraph\n",
    "from ragas.testset.transforms.relationship_builders.traditional import JaccardSimilarityBuilder\n",
    "\n",
    "kg = KnowledgeGraph(nodes=sample_nodes)\n",
    "rel_builder = JaccardSimilarityBuilder(property_name=\"entities\", new_property_name=\"entity_jaccard_similarity\")\n",
    "relationships = await rel_builder.transform(kg)\n",
    "relationships"
   ]
  },
  {
   "cell_type": "code",
   "execution_count": 38,
   "metadata": {},
   "outputs": [
    {
     "data": {
      "text/plain": [
       "[Relationship(Node(id: 132ba7) <-> Node(id: e08b68), type: jaccard_similarity, properties: ['entity_jaccard_similarity'])]"
      ]
     },
     "execution_count": 38,
     "metadata": {},
     "output_type": "execute_result"
    }
   ],
   "source": [
    "rel_builder_topic = JaccardSimilarityBuilder(property_name=\"topic_description\", new_property_name=\"entity_jaccard_similarity\")\n",
    "relationships_topic = await rel_builder.transform(kg)\n",
    "relationships_topic"
   ]
  },
  {
   "cell_type": "code",
   "execution_count": 39,
   "metadata": {},
   "outputs": [
    {
     "name": "stderr",
     "output_type": "stream",
     "text": [
      "Applying NERExtractor:   0%|          | 0/2 [00:00<?, ?it/s]Property 'entities' already exists in node '132ba7'. Skipping!\n",
      "Applying NERExtractor:  50%|█████     | 1/2 [00:01<00:01,  1.46s/it]Property 'entities' already exists in node 'e08b68'. Skipping!\n",
      "                                                                        \r"
     ]
    }
   ],
   "source": [
    "from ragas.testset.transforms import apply_transforms\n",
    "transforms = [\n",
    "    extractor,\n",
    "    rel_builder\n",
    "    ]\n",
    "\n",
    "apply_transforms(kg,transforms)"
   ]
  },
  {
   "cell_type": "code",
   "execution_count": 40,
   "metadata": {},
   "outputs": [
    {
     "name": "stderr",
     "output_type": "stream",
     "text": [
      "Applying NERExtractor:   0%|          | 0/2 [00:00<?, ?it/s]"
     ]
    },
    {
     "name": "stderr",
     "output_type": "stream",
     "text": [
      "Property 'entities' already exists in node '132ba7'. Skipping!\n",
      "Applying NERExtractor:  50%|█████     | 1/2 [00:00<00:00,  1.02it/s]Property 'entities' already exists in node 'e08b68'. Skipping!\n",
      "                                                                        \r"
     ]
    }
   ],
   "source": [
    "transforms_topic = [\n",
    "    TopicDescriptionExtractor(),\n",
    "    rel_builder_topic\n",
    "    ]\n",
    "\n",
    "apply_transforms(kg,transforms)"
   ]
  },
  {
   "cell_type": "code",
   "execution_count": 44,
   "metadata": {},
   "outputs": [
    {
     "name": "stderr",
     "output_type": "stream",
     "text": [
      "Applying NERExtractor:   0%|          | 0/2 [00:00<?, ?it/s]"
     ]
    },
    {
     "name": "stderr",
     "output_type": "stream",
     "text": [
      "Property 'entities' already exists in node 'e08b68'. Skipping!\n",
      "Applying NERExtractor:  50%|█████     | 1/2 [00:01<00:01,  1.07s/it]Property 'entities' already exists in node '132ba7'. Skipping!\n",
      "                                                                        \r"
     ]
    }
   ],
   "source": [
    "from ragas.testset.transforms import apply_transforms, Parallel\n",
    "\n",
    "tranforms = [\n",
    "    Parallel(\n",
    "        TopicDescriptionExtractor(),\n",
    "        NERExtractor()\n",
    "    ),\n",
    "    rel_builder\n",
    "]\n",
    "\n",
    "apply_transforms(kg,transforms)"
   ]
  },
  {
   "cell_type": "code",
   "execution_count": 53,
   "metadata": {},
   "outputs": [
    {
     "data": {
      "text/plain": [
       "[Relationship(Node(id: 132ba7) <-> Node(id: e08b68), type: jaccard_similarity, properties: ['entity_jaccard_similarity'])]"
      ]
     },
     "execution_count": 53,
     "metadata": {},
     "output_type": "execute_result"
    }
   ],
   "source": [
    "relationships_topic"
   ]
  },
  {
   "cell_type": "code",
   "execution_count": 52,
   "metadata": {},
   "outputs": [
    {
     "data": {
      "text/plain": [
       "{'entity_jaccard_similarity': 0.8333333333333334}"
      ]
     },
     "execution_count": 52,
     "metadata": {},
     "output_type": "execute_result"
    }
   ],
   "source": [
    "relationships_topic[0].properties"
   ]
  },
  {
   "cell_type": "code",
   "execution_count": 60,
   "metadata": {},
   "outputs": [
    {
     "data": {
      "text/plain": [
       "KnowledgeGraph(nodes: 2, relationships: 5)"
      ]
     },
     "execution_count": 60,
     "metadata": {},
     "output_type": "execute_result"
    }
   ],
   "source": [
    "kg"
   ]
  },
  {
   "cell_type": "code",
   "execution_count": 78,
   "metadata": {},
   "outputs": [],
   "source": [
    "# %%\n",
    "from dataclasses import dataclass\n",
    "# Import necessary types from ragas\n",
    "# Correct the import path for the base class\n",
    "from ragas.testset.synthesizers.base import BaseSynthesizer\n",
    "from ragas.testset.synthesizers.testset_schema import SingleTurnSample\n",
    "\n",
    "@dataclass\n",
    "class EntityQuerySynthesizer(BaseSynthesizer):\n",
    "    # ... rest of the class definition remains the same ...\n",
    "\n",
    "    async def _generate_scenarios( self, n, knowledge_graph, callbacks):\n",
    "        \"\"\"\n",
    "        logic to query nodes with entity\n",
    "        logic describing how to combine nodes,styles,length,persona to form n scenarios\n",
    "        \"\"\"\n",
    "        # Placeholder: Replace with your actual scenario generation logic\n",
    "        print(f\"Generating {n} scenarios using knowledge_graph...\")\n",
    "        # Example: scenarios = [...]\n",
    "        scenarios = [{\"type\": \"entity_query\", \"details\": f\"Scenario {i+1}\"} for i in range(n)]\n",
    "        return scenarios\n",
    "\n",
    "    async def _generate_sample(\n",
    "        self, scenario, callbacks\n",
    "    ):\n",
    "        \"\"\"\n",
    "        logic on how to use tranform each scenario to EvalSample (Query,Context,Reference)\n",
    "        you may create singleturn or multiturn sample\n",
    "        \"\"\"\n",
    "        # Placeholder: Replace with your actual sample generation logic based on the scenario\n",
    "        print(f\"Generating sample for scenario: {scenario['details']}\")\n",
    "        # Example: query = \"...\", contexts = [...], reference = \"...\"\n",
    "        query = f\"What can you tell me about {scenario.get('details', 'default entity')}?\"\n",
    "        contexts = [f\"Context related to {scenario.get('details', 'default entity')}.\"]\n",
    "        reference = f\"Reference answer about {scenario.get('details', 'default entity')}.\"\n",
    "\n",
    "        return SingleTurnSample(user_input=query, reference_contexts=contexts, reference=reference)"
   ]
  },
  {
   "cell_type": "code",
   "execution_count": 79,
   "metadata": {},
   "outputs": [
    {
     "name": "stdout",
     "output_type": "stream",
     "text": [
      "Generating 5 scenarios using knowledge_graph...\n",
      "Generating sample for scenario: Scenario 1\n",
      "user_input='What can you tell me about Scenario 1?' retrieved_contexts=None reference_contexts=['Context related to Scenario 1.'] response=None multi_responses=None reference='Reference answer about Scenario 1.' rubrics=None\n",
      "Generating sample for scenario: Scenario 2\n",
      "user_input='What can you tell me about Scenario 2?' retrieved_contexts=None reference_contexts=['Context related to Scenario 2.'] response=None multi_responses=None reference='Reference answer about Scenario 2.' rubrics=None\n",
      "Generating sample for scenario: Scenario 3\n",
      "user_input='What can you tell me about Scenario 3?' retrieved_contexts=None reference_contexts=['Context related to Scenario 3.'] response=None multi_responses=None reference='Reference answer about Scenario 3.' rubrics=None\n",
      "Generating sample for scenario: Scenario 4\n",
      "user_input='What can you tell me about Scenario 4?' retrieved_contexts=None reference_contexts=['Context related to Scenario 4.'] response=None multi_responses=None reference='Reference answer about Scenario 4.' rubrics=None\n",
      "Generating sample for scenario: Scenario 5\n",
      "user_input='What can you tell me about Scenario 5?' retrieved_contexts=None reference_contexts=['Context related to Scenario 5.'] response=None multi_responses=None reference='Reference answer about Scenario 5.' rubrics=None\n"
     ]
    }
   ],
   "source": [
    "# %%\n",
    "# Example usage (you'll need to adapt this)\n",
    "synthesizer = EntityQuerySynthesizer()\n",
    "scenarios = await synthesizer._generate_scenarios(n=5, knowledge_graph=kg, callbacks=None)\n",
    "for scenario in scenarios:\n",
    "    sample = await synthesizer._generate_sample(scenario=scenario, callbacks=None)\n",
    "    print(sample)"
   ]
  },
  {
   "cell_type": "code",
   "execution_count": 80,
   "metadata": {},
   "outputs": [
    {
     "data": {
      "text/plain": [
       "[{'type': 'entity_query', 'details': 'Scenario 1'},\n",
       " {'type': 'entity_query', 'details': 'Scenario 2'},\n",
       " {'type': 'entity_query', 'details': 'Scenario 3'},\n",
       " {'type': 'entity_query', 'details': 'Scenario 4'},\n",
       " {'type': 'entity_query', 'details': 'Scenario 5'}]"
      ]
     },
     "execution_count": 80,
     "metadata": {},
     "output_type": "execute_result"
    }
   ],
   "source": [
    "scenarios"
   ]
  },
  {
   "cell_type": "code",
   "execution_count": null,
   "metadata": {},
   "outputs": [],
   "source": []
  },
  {
   "cell_type": "code",
   "execution_count": null,
   "metadata": {},
   "outputs": [],
   "source": []
  }
 ],
 "metadata": {
  "kernelspec": {
   "display_name": "pln",
   "language": "python",
   "name": "python3"
  },
  "language_info": {
   "codemirror_mode": {
    "name": "ipython",
    "version": 3
   },
   "file_extension": ".py",
   "mimetype": "text/x-python",
   "name": "python",
   "nbconvert_exporter": "python",
   "pygments_lexer": "ipython3",
   "version": "3.11.9"
  }
 },
 "nbformat": 4,
 "nbformat_minor": 2
}
